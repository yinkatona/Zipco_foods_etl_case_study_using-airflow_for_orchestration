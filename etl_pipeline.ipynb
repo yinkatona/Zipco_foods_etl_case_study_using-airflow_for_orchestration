{
 "cells": [
  {
   "cell_type": "markdown",
   "metadata": {},
   "source": [
    "### Installing Necessary Packages\n"
   ]
  },
  {
   "cell_type": "code",
   "execution_count": 5,
   "metadata": {},
   "outputs": [
    {
     "name": "stdout",
     "output_type": "stream",
     "text": [
      "Requirement already satisfied: pandas in c:\\users\\adeyinka\\appdata\\local\\programs\\python\\python313\\lib\\site-packages (2.2.3)Note: you may need to restart the kernel to use updated packages.\n",
      "\n",
      "Requirement already satisfied: azure-storage-blob in c:\\users\\adeyinka\\appdata\\local\\programs\\python\\python313\\lib\\site-packages (12.24.1)\n",
      "Requirement already satisfied: python-dotenv in c:\\users\\adeyinka\\appdata\\local\\programs\\python\\python313\\lib\\site-packages (1.0.1)\n",
      "Requirement already satisfied: numpy>=1.26.0 in c:\\users\\adeyinka\\appdata\\local\\programs\\python\\python313\\lib\\site-packages (from pandas) (2.2.2)\n",
      "Requirement already satisfied: python-dateutil>=2.8.2 in c:\\users\\adeyinka\\appdata\\roaming\\python\\python313\\site-packages (from pandas) (2.9.0.post0)\n",
      "Requirement already satisfied: pytz>=2020.1 in c:\\users\\adeyinka\\appdata\\local\\programs\\python\\python313\\lib\\site-packages (from pandas) (2024.2)\n",
      "Requirement already satisfied: tzdata>=2022.7 in c:\\users\\adeyinka\\appdata\\local\\programs\\python\\python313\\lib\\site-packages (from pandas) (2025.1)\n",
      "Requirement already satisfied: azure-core>=1.30.0 in c:\\users\\adeyinka\\appdata\\local\\programs\\python\\python313\\lib\\site-packages (from azure-storage-blob) (1.32.0)\n",
      "Requirement already satisfied: cryptography>=2.1.4 in c:\\users\\adeyinka\\appdata\\local\\programs\\python\\python313\\lib\\site-packages (from azure-storage-blob) (44.0.0)\n",
      "Requirement already satisfied: typing-extensions>=4.6.0 in c:\\users\\adeyinka\\appdata\\local\\programs\\python\\python313\\lib\\site-packages (from azure-storage-blob) (4.12.2)\n",
      "Requirement already satisfied: isodate>=0.6.1 in c:\\users\\adeyinka\\appdata\\local\\programs\\python\\python313\\lib\\site-packages (from azure-storage-blob) (0.7.2)\n",
      "Requirement already satisfied: requests>=2.21.0 in c:\\users\\adeyinka\\appdata\\local\\programs\\python\\python313\\lib\\site-packages (from azure-core>=1.30.0->azure-storage-blob) (2.32.3)\n",
      "Requirement already satisfied: six>=1.11.0 in c:\\users\\adeyinka\\appdata\\roaming\\python\\python313\\site-packages (from azure-core>=1.30.0->azure-storage-blob) (1.16.0)\n",
      "Requirement already satisfied: cffi>=1.12 in c:\\users\\adeyinka\\appdata\\local\\programs\\python\\python313\\lib\\site-packages (from cryptography>=2.1.4->azure-storage-blob) (1.17.1)\n",
      "Requirement already satisfied: pycparser in c:\\users\\adeyinka\\appdata\\local\\programs\\python\\python313\\lib\\site-packages (from cffi>=1.12->cryptography>=2.1.4->azure-storage-blob) (2.22)\n",
      "Requirement already satisfied: charset-normalizer<4,>=2 in c:\\users\\adeyinka\\appdata\\local\\programs\\python\\python313\\lib\\site-packages (from requests>=2.21.0->azure-core>=1.30.0->azure-storage-blob) (3.4.1)\n",
      "Requirement already satisfied: idna<4,>=2.5 in c:\\users\\adeyinka\\appdata\\local\\programs\\python\\python313\\lib\\site-packages (from requests>=2.21.0->azure-core>=1.30.0->azure-storage-blob) (3.10)\n",
      "Requirement already satisfied: urllib3<3,>=1.21.1 in c:\\users\\adeyinka\\appdata\\local\\programs\\python\\python313\\lib\\site-packages (from requests>=2.21.0->azure-core>=1.30.0->azure-storage-blob) (2.3.0)\n",
      "Requirement already satisfied: certifi>=2017.4.17 in c:\\users\\adeyinka\\appdata\\local\\programs\\python\\python313\\lib\\site-packages (from requests>=2.21.0->azure-core>=1.30.0->azure-storage-blob) (2024.12.14)\n"
     ]
    },
    {
     "name": "stderr",
     "output_type": "stream",
     "text": [
      "\n",
      "[notice] A new release of pip is available: 24.3.1 -> 25.0\n",
      "[notice] To update, run: python.exe -m pip install --upgrade pip\n"
     ]
    }
   ],
   "source": [
    "# Installing Pandas, azure-storage-blob, dotenv\n",
    "%pip install pandas azure-storage-blob python-dotenv"
   ]
  },
  {
   "cell_type": "code",
   "execution_count": 4,
   "metadata": {},
   "outputs": [],
   "source": [
    "# Importing Libraries\n",
    "import pandas as pd\n",
    "from azure.storage.blob import BlobServiceClient\n",
    "from dotenv import load_dotenv\n",
    "import os"
   ]
  },
  {
   "cell_type": "code",
   "execution_count": 7,
   "metadata": {},
   "outputs": [
    {
     "name": "stdout",
     "output_type": "stream",
     "text": [
      "Data Extracted Successfully\n"
     ]
    }
   ],
   "source": [
    "#Extraction of Data \n",
    "\n",
    "try:\n",
    "  data = pd.read_csv(r'zipco_transaction.csv')\n",
    "  print(\"Data Extracted Successfully\")\n",
    "except Exception as e:\n",
    "  print(\"Data Extraction Failed\")\n",
    "  print(e)"
   ]
  },
  {
   "cell_type": "code",
   "execution_count": 8,
   "metadata": {},
   "outputs": [
    {
     "data": {
      "text/html": [
       "<div>\n",
       "<style scoped>\n",
       "    .dataframe tbody tr th:only-of-type {\n",
       "        vertical-align: middle;\n",
       "    }\n",
       "\n",
       "    .dataframe tbody tr th {\n",
       "        vertical-align: top;\n",
       "    }\n",
       "\n",
       "    .dataframe thead th {\n",
       "        text-align: right;\n",
       "    }\n",
       "</style>\n",
       "<table border=\"1\" class=\"dataframe\">\n",
       "  <thead>\n",
       "    <tr style=\"text-align: right;\">\n",
       "      <th></th>\n",
       "      <th>Date</th>\n",
       "      <th>ProductName</th>\n",
       "      <th>Quantity</th>\n",
       "      <th>UnitPrice</th>\n",
       "      <th>StoreLocation</th>\n",
       "      <th>PaymentType</th>\n",
       "      <th>PromotionApplied</th>\n",
       "      <th>Weather</th>\n",
       "      <th>Temperature</th>\n",
       "      <th>StaffPerformanceRating</th>\n",
       "      <th>...</th>\n",
       "      <th>DeliveryTime_min</th>\n",
       "      <th>OrderType</th>\n",
       "      <th>CustomerName</th>\n",
       "      <th>CustomerAddress</th>\n",
       "      <th>Customer_PhoneNumber</th>\n",
       "      <th>CustomerEmail</th>\n",
       "      <th>Staff_Name</th>\n",
       "      <th>Staff_Email</th>\n",
       "      <th>DayOfWeek</th>\n",
       "      <th>TotalSales</th>\n",
       "    </tr>\n",
       "  </thead>\n",
       "  <tbody>\n",
       "    <tr>\n",
       "      <th>0</th>\n",
       "      <td>2023-01-01 00:00:00</td>\n",
       "      <td>Vanilla Cake</td>\n",
       "      <td>2</td>\n",
       "      <td>12.532304</td>\n",
       "      <td>South</td>\n",
       "      <td>Cash</td>\n",
       "      <td>True</td>\n",
       "      <td>Rainy</td>\n",
       "      <td>20.654914</td>\n",
       "      <td>Poor</td>\n",
       "      <td>...</td>\n",
       "      <td>30</td>\n",
       "      <td>In Store</td>\n",
       "      <td>William Adams</td>\n",
       "      <td>9851 David Green\\r\\nTonyaburgh, VA 02853</td>\n",
       "      <td>(916)427-7276x861</td>\n",
       "      <td>lisa00@example.net</td>\n",
       "      <td>John Bridges</td>\n",
       "      <td>pdavidson@example.com</td>\n",
       "      <td>Sunday</td>\n",
       "      <td>25.064608</td>\n",
       "    </tr>\n",
       "    <tr>\n",
       "      <th>1</th>\n",
       "      <td>2023-01-01 01:00:00</td>\n",
       "      <td>Red Velvet Cake</td>\n",
       "      <td>1</td>\n",
       "      <td>7.083070</td>\n",
       "      <td>South</td>\n",
       "      <td>Cash</td>\n",
       "      <td>False</td>\n",
       "      <td>Rainy</td>\n",
       "      <td>23.549497</td>\n",
       "      <td>Average</td>\n",
       "      <td>...</td>\n",
       "      <td>33</td>\n",
       "      <td>In Store</td>\n",
       "      <td>Anthony Wiggins</td>\n",
       "      <td>24682 Holly Stravenue\\r\\nMooreville, NH 13901</td>\n",
       "      <td>769.318.4373</td>\n",
       "      <td>michellefernandez@example.com</td>\n",
       "      <td>Sarah Bentley</td>\n",
       "      <td>ajohnson@example.net</td>\n",
       "      <td>Sunday</td>\n",
       "      <td>7.083070</td>\n",
       "    </tr>\n",
       "    <tr>\n",
       "      <th>2</th>\n",
       "      <td>2023-01-01 02:00:00</td>\n",
       "      <td>Chocolate Cake</td>\n",
       "      <td>5</td>\n",
       "      <td>6.736064</td>\n",
       "      <td>North</td>\n",
       "      <td>Cash</td>\n",
       "      <td>True</td>\n",
       "      <td>Rainy</td>\n",
       "      <td>NaN</td>\n",
       "      <td>Excellent</td>\n",
       "      <td>...</td>\n",
       "      <td>43</td>\n",
       "      <td>Phone Order</td>\n",
       "      <td>Ashley Duke</td>\n",
       "      <td>10184 Washington Trace Apt. 679\\r\\nEast Brandi...</td>\n",
       "      <td>702.520.3286</td>\n",
       "      <td>cooperwilliam@example.com</td>\n",
       "      <td>Connie Cervantes</td>\n",
       "      <td>michele29@example.net</td>\n",
       "      <td>Sunday</td>\n",
       "      <td>33.680321</td>\n",
       "    </tr>\n",
       "    <tr>\n",
       "      <th>3</th>\n",
       "      <td>2023-01-01 03:00:00</td>\n",
       "      <td>Carrot Cake</td>\n",
       "      <td>2</td>\n",
       "      <td>7.314823</td>\n",
       "      <td>North</td>\n",
       "      <td>Cash</td>\n",
       "      <td>False</td>\n",
       "      <td>Cloudy</td>\n",
       "      <td>20.137483</td>\n",
       "      <td>Poor</td>\n",
       "      <td>...</td>\n",
       "      <td>32</td>\n",
       "      <td>Online Order</td>\n",
       "      <td>Brandon Taylor</td>\n",
       "      <td>87194 Jeff Rue\\r\\nMitchellbury, CA 50463</td>\n",
       "      <td>622-527-9530</td>\n",
       "      <td>fsilva@example.net</td>\n",
       "      <td>Jessica Stewart</td>\n",
       "      <td>xwilson@example.org</td>\n",
       "      <td>Sunday</td>\n",
       "      <td>14.629647</td>\n",
       "    </tr>\n",
       "    <tr>\n",
       "      <th>4</th>\n",
       "      <td>2023-01-01 04:00:00</td>\n",
       "      <td>Pizza Pepperoni</td>\n",
       "      <td>1</td>\n",
       "      <td>7.577727</td>\n",
       "      <td>East</td>\n",
       "      <td>Credit Card</td>\n",
       "      <td>True</td>\n",
       "      <td>Cloudy</td>\n",
       "      <td>23.020987</td>\n",
       "      <td>Good</td>\n",
       "      <td>...</td>\n",
       "      <td>58</td>\n",
       "      <td>In Store</td>\n",
       "      <td>Brittany Watkins</td>\n",
       "      <td>850 Julia Groves\\r\\nHartview, WI 95954</td>\n",
       "      <td>759-517-8359</td>\n",
       "      <td>petersjoseph@example.net</td>\n",
       "      <td>Cheryl Carpenter</td>\n",
       "      <td>christine96@example.org</td>\n",
       "      <td>Sunday</td>\n",
       "      <td>7.577727</td>\n",
       "    </tr>\n",
       "  </tbody>\n",
       "</table>\n",
       "<p>5 rows × 21 columns</p>\n",
       "</div>"
      ],
      "text/plain": [
       "                  Date      ProductName  Quantity  UnitPrice StoreLocation  \\\n",
       "0  2023-01-01 00:00:00     Vanilla Cake         2  12.532304         South   \n",
       "1  2023-01-01 01:00:00  Red Velvet Cake         1   7.083070         South   \n",
       "2  2023-01-01 02:00:00   Chocolate Cake         5   6.736064         North   \n",
       "3  2023-01-01 03:00:00      Carrot Cake         2   7.314823         North   \n",
       "4  2023-01-01 04:00:00  Pizza Pepperoni         1   7.577727          East   \n",
       "\n",
       "   PaymentType  PromotionApplied Weather  Temperature StaffPerformanceRating  \\\n",
       "0         Cash              True   Rainy    20.654914                   Poor   \n",
       "1         Cash             False   Rainy    23.549497                Average   \n",
       "2         Cash              True   Rainy          NaN              Excellent   \n",
       "3         Cash             False  Cloudy    20.137483                   Poor   \n",
       "4  Credit Card              True  Cloudy    23.020987                   Good   \n",
       "\n",
       "   ... DeliveryTime_min     OrderType      CustomerName  \\\n",
       "0  ...               30      In Store     William Adams   \n",
       "1  ...               33      In Store   Anthony Wiggins   \n",
       "2  ...               43   Phone Order       Ashley Duke   \n",
       "3  ...               32  Online Order    Brandon Taylor   \n",
       "4  ...               58      In Store  Brittany Watkins   \n",
       "\n",
       "                                     CustomerAddress Customer_PhoneNumber  \\\n",
       "0           9851 David Green\\r\\nTonyaburgh, VA 02853    (916)427-7276x861   \n",
       "1      24682 Holly Stravenue\\r\\nMooreville, NH 13901         769.318.4373   \n",
       "2  10184 Washington Trace Apt. 679\\r\\nEast Brandi...         702.520.3286   \n",
       "3           87194 Jeff Rue\\r\\nMitchellbury, CA 50463         622-527-9530   \n",
       "4             850 Julia Groves\\r\\nHartview, WI 95954         759-517-8359   \n",
       "\n",
       "                   CustomerEmail        Staff_Name              Staff_Email  \\\n",
       "0             lisa00@example.net      John Bridges    pdavidson@example.com   \n",
       "1  michellefernandez@example.com     Sarah Bentley     ajohnson@example.net   \n",
       "2      cooperwilliam@example.com  Connie Cervantes    michele29@example.net   \n",
       "3             fsilva@example.net   Jessica Stewart      xwilson@example.org   \n",
       "4       petersjoseph@example.net  Cheryl Carpenter  christine96@example.org   \n",
       "\n",
       "  DayOfWeek TotalSales  \n",
       "0    Sunday  25.064608  \n",
       "1    Sunday   7.083070  \n",
       "2    Sunday  33.680321  \n",
       "3    Sunday  14.629647  \n",
       "4    Sunday   7.577727  \n",
       "\n",
       "[5 rows x 21 columns]"
      ]
     },
     "execution_count": 8,
     "metadata": {},
     "output_type": "execute_result"
    }
   ],
   "source": [
    "data.head()"
   ]
  },
  {
   "cell_type": "code",
   "execution_count": 9,
   "metadata": {},
   "outputs": [
    {
     "data": {
      "text/plain": [
       "Index(['Date', 'ProductName', 'Quantity', 'UnitPrice', 'StoreLocation',\n",
       "       'PaymentType', 'PromotionApplied', 'Weather', 'Temperature',\n",
       "       'StaffPerformanceRating', 'CustomerFeedback', 'DeliveryTime_min',\n",
       "       'OrderType', 'CustomerName', 'CustomerAddress', 'Customer_PhoneNumber',\n",
       "       'CustomerEmail', 'Staff_Name', 'Staff_Email', 'DayOfWeek',\n",
       "       'TotalSales'],\n",
       "      dtype='object')"
      ]
     },
     "execution_count": 9,
     "metadata": {},
     "output_type": "execute_result"
    }
   ],
   "source": [
    "data.columns"
   ]
  },
  {
   "cell_type": "code",
   "execution_count": 10,
   "metadata": {},
   "outputs": [
    {
     "data": {
      "text/plain": [
       "(1005, 21)"
      ]
     },
     "execution_count": 10,
     "metadata": {},
     "output_type": "execute_result"
    }
   ],
   "source": [
    "data.shape"
   ]
  },
  {
   "cell_type": "code",
   "execution_count": 11,
   "metadata": {},
   "outputs": [
    {
     "name": "stdout",
     "output_type": "stream",
     "text": [
      "<class 'pandas.core.frame.DataFrame'>\n",
      "RangeIndex: 1005 entries, 0 to 1004\n",
      "Data columns (total 21 columns):\n",
      " #   Column                  Non-Null Count  Dtype  \n",
      "---  ------                  --------------  -----  \n",
      " 0   Date                    1005 non-null   object \n",
      " 1   ProductName             1005 non-null   object \n",
      " 2   Quantity                1005 non-null   int64  \n",
      " 3   UnitPrice               1005 non-null   float64\n",
      " 4   StoreLocation           1005 non-null   object \n",
      " 5   PaymentType             1005 non-null   object \n",
      " 6   PromotionApplied        1005 non-null   bool   \n",
      " 7   Weather                 1005 non-null   object \n",
      " 8   Temperature             904 non-null    float64\n",
      " 9   StaffPerformanceRating  1005 non-null   object \n",
      " 10  CustomerFeedback        905 non-null    object \n",
      " 11  DeliveryTime_min        1005 non-null   int64  \n",
      " 12  OrderType               1005 non-null   object \n",
      " 13  CustomerName            1005 non-null   object \n",
      " 14  CustomerAddress         1005 non-null   object \n",
      " 15  Customer_PhoneNumber    1005 non-null   object \n",
      " 16  CustomerEmail           904 non-null    object \n",
      " 17  Staff_Name              1005 non-null   object \n",
      " 18  Staff_Email             904 non-null    object \n",
      " 19  DayOfWeek               1005 non-null   object \n",
      " 20  TotalSales              1005 non-null   float64\n",
      "dtypes: bool(1), float64(3), int64(2), object(15)\n",
      "memory usage: 158.1+ KB\n"
     ]
    }
   ],
   "source": [
    "data.info()"
   ]
  },
  {
   "cell_type": "markdown",
   "metadata": {},
   "source": [
    "### Data Cleaning and Modelling"
   ]
  },
  {
   "cell_type": "code",
   "execution_count": null,
   "metadata": {},
   "outputs": [],
   "source": []
  }
 ],
 "metadata": {
  "kernelspec": {
   "display_name": "Python 3",
   "language": "python",
   "name": "python3"
  },
  "language_info": {
   "codemirror_mode": {
    "name": "ipython",
    "version": 3
   },
   "file_extension": ".py",
   "mimetype": "text/x-python",
   "name": "python",
   "nbconvert_exporter": "python",
   "pygments_lexer": "ipython3",
   "version": "3.13.1"
  }
 },
 "nbformat": 4,
 "nbformat_minor": 2
}
